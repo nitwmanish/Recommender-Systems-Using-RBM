{
 "cells": [
  {
   "cell_type": "markdown",
   "metadata": {},
   "source": [
    "# Recommender Systems Using RBM"
   ]
  },
  {
   "cell_type": "markdown",
   "metadata": {},
   "source": [
    "Load the necessary libraries."
   ]
  },
  {
   "cell_type": "markdown",
   "metadata": {},
   "source": [
    "import numpy as np \n",
    "import pandas as pd\n",
    "import matplotlib.pyplot as plt\n",
    "%matplotlib inline"
   ]
  },
  {
   "cell_type": "markdown",
   "metadata": {},
   "source": [
    "Load the Data Prepration and Model Evaluation libraries."
   ]
  },
  {
   "cell_type": "code",
   "execution_count": 2,
   "metadata": {},
   "outputs": [],
   "source": [
    "from sklearn.model_selection import train_test_split\n",
    "from sklearn.metrics import mean_squared_error"
   ]
  },
  {
   "cell_type": "markdown",
   "metadata": {},
   "source": [
    "Load TensorFlow libraries."
   ]
  },
  {
   "cell_type": "code",
   "execution_count": 3,
   "metadata": {},
   "outputs": [],
   "source": [
    "import tensorflow as tf"
   ]
  },
  {
   "cell_type": "markdown",
   "metadata": {},
   "source": [
    "Load the ratings dataset."
   ]
  },
  {
   "cell_type": "code",
   "execution_count": 4,
   "metadata": {},
   "outputs": [
    {
     "data": {
      "text/html": [
       "<div>\n",
       "<style scoped>\n",
       "    .dataframe tbody tr th:only-of-type {\n",
       "        vertical-align: middle;\n",
       "    }\n",
       "\n",
       "    .dataframe tbody tr th {\n",
       "        vertical-align: top;\n",
       "    }\n",
       "\n",
       "    .dataframe thead th {\n",
       "        text-align: right;\n",
       "    }\n",
       "</style>\n",
       "<table border=\"1\" class=\"dataframe\">\n",
       "  <thead>\n",
       "    <tr style=\"text-align: right;\">\n",
       "      <th></th>\n",
       "      <th>userId</th>\n",
       "      <th>movieId</th>\n",
       "      <th>rating</th>\n",
       "      <th>timestamp</th>\n",
       "    </tr>\n",
       "  </thead>\n",
       "  <tbody>\n",
       "    <tr>\n",
       "      <th>0</th>\n",
       "      <td>1</td>\n",
       "      <td>2</td>\n",
       "      <td>3.5</td>\n",
       "      <td>1112486027</td>\n",
       "    </tr>\n",
       "    <tr>\n",
       "      <th>1</th>\n",
       "      <td>1</td>\n",
       "      <td>29</td>\n",
       "      <td>3.5</td>\n",
       "      <td>1112484676</td>\n",
       "    </tr>\n",
       "    <tr>\n",
       "      <th>2</th>\n",
       "      <td>1</td>\n",
       "      <td>32</td>\n",
       "      <td>3.5</td>\n",
       "      <td>1112484819</td>\n",
       "    </tr>\n",
       "    <tr>\n",
       "      <th>3</th>\n",
       "      <td>1</td>\n",
       "      <td>47</td>\n",
       "      <td>3.5</td>\n",
       "      <td>1112484727</td>\n",
       "    </tr>\n",
       "    <tr>\n",
       "      <th>4</th>\n",
       "      <td>1</td>\n",
       "      <td>50</td>\n",
       "      <td>3.5</td>\n",
       "      <td>1112484580</td>\n",
       "    </tr>\n",
       "  </tbody>\n",
       "</table>\n",
       "</div>"
      ],
      "text/plain": [
       "   userId  movieId  rating   timestamp\n",
       "0       1        2     3.5  1112486027\n",
       "1       1       29     3.5  1112484676\n",
       "2       1       32     3.5  1112484819\n",
       "3       1       47     3.5  1112484727\n",
       "4       1       50     3.5  1112484580"
      ]
     },
     "execution_count": 4,
     "metadata": {},
     "output_type": "execute_result"
    }
   ],
   "source": [
    "ratings = pd.read_csv('ml-20m/ratings.csv')\n",
    "ratings.head()"
   ]
  },
  {
   "cell_type": "markdown",
   "metadata": {},
   "source": [
    "Dataset have 4 fields. The user ID, the movie ID, the rating provided by the user for the movie, and the timestamp of the rating provided, now convert the timestamp field into the appropriate format."
   ]
  },
  {
   "cell_type": "code",
   "execution_count": 5,
   "metadata": {},
   "outputs": [
    {
     "data": {
      "text/html": [
       "<div>\n",
       "<style scoped>\n",
       "    .dataframe tbody tr th:only-of-type {\n",
       "        vertical-align: middle;\n",
       "    }\n",
       "\n",
       "    .dataframe tbody tr th {\n",
       "        vertical-align: top;\n",
       "    }\n",
       "\n",
       "    .dataframe thead th {\n",
       "        text-align: right;\n",
       "    }\n",
       "</style>\n",
       "<table border=\"1\" class=\"dataframe\">\n",
       "  <thead>\n",
       "    <tr style=\"text-align: right;\">\n",
       "      <th></th>\n",
       "      <th>userId</th>\n",
       "      <th>movieId</th>\n",
       "      <th>rating</th>\n",
       "      <th>timestamp</th>\n",
       "    </tr>\n",
       "  </thead>\n",
       "  <tbody>\n",
       "    <tr>\n",
       "      <th>0</th>\n",
       "      <td>1</td>\n",
       "      <td>2</td>\n",
       "      <td>3.5</td>\n",
       "      <td>2005-04-02 23:53:47</td>\n",
       "    </tr>\n",
       "    <tr>\n",
       "      <th>1</th>\n",
       "      <td>1</td>\n",
       "      <td>29</td>\n",
       "      <td>3.5</td>\n",
       "      <td>2005-04-02 23:31:16</td>\n",
       "    </tr>\n",
       "    <tr>\n",
       "      <th>2</th>\n",
       "      <td>1</td>\n",
       "      <td>32</td>\n",
       "      <td>3.5</td>\n",
       "      <td>2005-04-02 23:33:39</td>\n",
       "    </tr>\n",
       "    <tr>\n",
       "      <th>3</th>\n",
       "      <td>1</td>\n",
       "      <td>47</td>\n",
       "      <td>3.5</td>\n",
       "      <td>2005-04-02 23:32:07</td>\n",
       "    </tr>\n",
       "    <tr>\n",
       "      <th>4</th>\n",
       "      <td>1</td>\n",
       "      <td>50</td>\n",
       "      <td>3.5</td>\n",
       "      <td>2005-04-02 23:29:40</td>\n",
       "    </tr>\n",
       "  </tbody>\n",
       "</table>\n",
       "</div>"
      ],
      "text/plain": [
       "   userId  movieId  rating           timestamp\n",
       "0       1        2     3.5 2005-04-02 23:53:47\n",
       "1       1       29     3.5 2005-04-02 23:31:16\n",
       "2       1       32     3.5 2005-04-02 23:33:39\n",
       "3       1       47     3.5 2005-04-02 23:32:07\n",
       "4       1       50     3.5 2005-04-02 23:29:40"
      ]
     },
     "execution_count": 5,
     "metadata": {},
     "output_type": "execute_result"
    }
   ],
   "source": [
    "ratings.userId = ratings.userId.astype(str).astype(int)\n",
    "ratings.movieId = ratings.movieId.astype(str).astype(int)\n",
    "ratings.rating = ratings.rating.astype(str).astype(float)\n",
    "ratings.timestamp = pd.to_datetime(ratings.timestamp.astype(int), unit='s')\n",
    "ratings.head()"
   ]
  },
  {
   "cell_type": "markdown",
   "metadata": {},
   "source": [
    "Let’s find out the number of unique users, unique movies, and total ratings, and also calculate the average number of ratings provided by users."
   ]
  },
  {
   "cell_type": "code",
   "execution_count": 6,
   "metadata": {},
   "outputs": [
    {
     "name": "stdout",
     "output_type": "stream",
     "text": [
      "Number of unique users:  138493\n",
      "Number of unique movies:  26744\n",
      "Number of total ratings:  20000263\n",
      "Average number of ratings per user:  144.4135299257002\n"
     ]
    }
   ],
   "source": [
    "n_users = ratings.userId.unique().shape[0]\n",
    "n_movies = ratings.movieId.unique().shape[0]\n",
    "n_ratings = len(ratings)\n",
    "avg_ratings_per_user = n_ratings/n_users\n",
    "\n",
    "print('Number of unique users: ', n_users)\n",
    "print('Number of unique movies: ', n_movies)\n",
    "print('Number of total ratings: ', n_ratings)\n",
    "print('Average number of ratings per user: ', avg_ratings_per_user)"
   ]
  },
  {
   "cell_type": "markdown",
   "metadata": {},
   "source": [
    "To reduce the complexity and size of this dataset, let’s focus on the top one thousand most rated movies. This will reduce the number of ratings from about 20 million to about 12.8 million."
   ]
  },
  {
   "cell_type": "code",
   "execution_count": 7,
   "metadata": {},
   "outputs": [
    {
     "data": {
      "text/plain": [
       "userId       12840344\n",
       "movieId      12840344\n",
       "rating       12840344\n",
       "timestamp    12840344\n",
       "dtype: int64"
      ]
     },
     "execution_count": 7,
     "metadata": {},
     "output_type": "execute_result"
    }
   ],
   "source": [
    "movieIndex = ratings.groupby(\"movieId\").count().sort_values(by=\"rating\",ascending=False)[0:1000].index\n",
    "ratings2 = ratings[ratings.movieId.isin(movieIndex)]\n",
    "ratings2.count()"
   ]
  },
  {
   "cell_type": "markdown",
   "metadata": {},
   "source": [
    "Let’s take a sample of one thousand users at random and filter the dataset for just these users. This will reduce the number of ratings from ~12.8 million to just 90,213. This number is sufficient to demonstrate collaborative filtering."
   ]
  },
  {
   "cell_type": "code",
   "execution_count": 8,
   "metadata": {},
   "outputs": [
    {
     "data": {
      "text/plain": [
       "userId       90213\n",
       "movieId      90213\n",
       "rating       90213\n",
       "timestamp    90213\n",
       "dtype: int64"
      ]
     },
     "execution_count": 8,
     "metadata": {},
     "output_type": "execute_result"
    }
   ],
   "source": [
    "userIndex = ratings2.groupby(\"userId\").count().sort_values(by=\"rating\",ascending=False).sample(n=1000, random_state=2018).index\n",
    "ratings3 = ratings2[ratings2.userId.isin(userIndex)]\n",
    "ratings3.count()"
   ]
  },
  {
   "cell_type": "markdown",
   "metadata": {},
   "source": [
    "Let’s also reindex movieID and userID to a range of 1 to 1,000 for our reduced dataset."
   ]
  },
  {
   "cell_type": "code",
   "execution_count": 9,
   "metadata": {},
   "outputs": [
    {
     "data": {
      "text/html": [
       "<div>\n",
       "<style scoped>\n",
       "    .dataframe tbody tr th:only-of-type {\n",
       "        vertical-align: middle;\n",
       "    }\n",
       "\n",
       "    .dataframe tbody tr th {\n",
       "        vertical-align: top;\n",
       "    }\n",
       "\n",
       "    .dataframe thead th {\n",
       "        text-align: right;\n",
       "    }\n",
       "</style>\n",
       "<table border=\"1\" class=\"dataframe\">\n",
       "  <thead>\n",
       "    <tr style=\"text-align: right;\">\n",
       "      <th></th>\n",
       "      <th>userId</th>\n",
       "      <th>movieId</th>\n",
       "      <th>rating</th>\n",
       "      <th>timestamp</th>\n",
       "      <th>newMovieId</th>\n",
       "      <th>newUserId</th>\n",
       "    </tr>\n",
       "  </thead>\n",
       "  <tbody>\n",
       "    <tr>\n",
       "      <th>0</th>\n",
       "      <td>49</td>\n",
       "      <td>50</td>\n",
       "      <td>5.0</td>\n",
       "      <td>2013-05-03 02:50:26</td>\n",
       "      <td>1</td>\n",
       "      <td>1</td>\n",
       "    </tr>\n",
       "    <tr>\n",
       "      <th>1</th>\n",
       "      <td>49</td>\n",
       "      <td>163</td>\n",
       "      <td>3.5</td>\n",
       "      <td>2013-05-03 02:43:37</td>\n",
       "      <td>2</td>\n",
       "      <td>1</td>\n",
       "    </tr>\n",
       "    <tr>\n",
       "      <th>2</th>\n",
       "      <td>49</td>\n",
       "      <td>216</td>\n",
       "      <td>3.0</td>\n",
       "      <td>2013-05-03 02:45:58</td>\n",
       "      <td>3</td>\n",
       "      <td>1</td>\n",
       "    </tr>\n",
       "    <tr>\n",
       "      <th>3</th>\n",
       "      <td>49</td>\n",
       "      <td>296</td>\n",
       "      <td>5.0</td>\n",
       "      <td>2013-05-03 02:50:13</td>\n",
       "      <td>4</td>\n",
       "      <td>1</td>\n",
       "    </tr>\n",
       "    <tr>\n",
       "      <th>4</th>\n",
       "      <td>49</td>\n",
       "      <td>333</td>\n",
       "      <td>3.0</td>\n",
       "      <td>2013-05-03 02:44:38</td>\n",
       "      <td>5</td>\n",
       "      <td>1</td>\n",
       "    </tr>\n",
       "  </tbody>\n",
       "</table>\n",
       "</div>"
      ],
      "text/plain": [
       "   userId  movieId  rating           timestamp  newMovieId  newUserId\n",
       "0      49       50     5.0 2013-05-03 02:50:26           1          1\n",
       "1      49      163     3.5 2013-05-03 02:43:37           2          1\n",
       "2      49      216     3.0 2013-05-03 02:45:58           3          1\n",
       "3      49      296     5.0 2013-05-03 02:50:13           4          1\n",
       "4      49      333     3.0 2013-05-03 02:44:38           5          1"
      ]
     },
     "execution_count": 9,
     "metadata": {},
     "output_type": "execute_result"
    }
   ],
   "source": [
    "movies = ratings3.movieId.unique()\n",
    "moviesDF = pd.DataFrame(data=movies,columns=['originalMovieId'])\n",
    "moviesDF['newMovieId'] = moviesDF.index+1\n",
    "\n",
    "users = ratings3.userId.unique()\n",
    "usersDF = pd.DataFrame(data=users,columns=['originalUserId'])\n",
    "usersDF['newUserId'] = usersDF.index+1\n",
    "\n",
    "ratingDF = ratings3.merge(moviesDF,left_on='movieId',right_on='originalMovieId')\n",
    "ratingDF.drop(labels='originalMovieId', axis=1, inplace=True)\n",
    "\n",
    "ratingDF = ratingDF.merge(usersDF,left_on='userId',right_on='originalUserId')\n",
    "ratingDF.drop(labels='originalUserId', axis=1, inplace=True)\n",
    "\n",
    "ratingDF.head()"
   ]
  },
  {
   "cell_type": "markdown",
   "metadata": {},
   "source": [
    "Let’s calculate the number of unique users, unique movies, total ratings, and average number of ratings per user for our reduced dataset."
   ]
  },
  {
   "cell_type": "code",
   "execution_count": 10,
   "metadata": {},
   "outputs": [
    {
     "name": "stdout",
     "output_type": "stream",
     "text": [
      "Number of unique users:  1000\n",
      "Number of unique movies:  1000\n",
      "Number of total ratings:  90213\n",
      "Average number of ratings per user:  90.213\n"
     ]
    }
   ],
   "source": [
    "n_users = ratingDF.userId.unique().shape[0]\n",
    "n_movies = ratingDF.movieId.unique().shape[0]\n",
    "n_ratings = len(ratingDF)\n",
    "avg_ratings_per_user = n_ratings/n_users\n",
    "print('Number of unique users: ', n_users)\n",
    "print('Number of unique movies: ', n_movies)\n",
    "print('Number of total ratings: ', n_ratings)\n",
    "print('Average number of ratings per user: ', avg_ratings_per_user)"
   ]
  },
  {
   "cell_type": "markdown",
   "metadata": {},
   "source": [
    "Let’s generate a test set and a validation set from this reduced dataset so that each holdout set is 5% of the reduced dataset."
   ]
  },
  {
   "cell_type": "code",
   "execution_count": 11,
   "metadata": {},
   "outputs": [],
   "source": [
    "X_train, X_test = train_test_split(ratingDF, test_size=0.10, shuffle=True, random_state=2018)\n",
    "X_validation, X_test = train_test_split(X_test, test_size=0.50, shuffle=True, random_state=2018)"
   ]
  },
  {
   "cell_type": "markdown",
   "metadata": {},
   "source": [
    "Confirm size of train, validation, and test datasets."
   ]
  },
  {
   "cell_type": "code",
   "execution_count": 12,
   "metadata": {},
   "outputs": [
    {
     "name": "stdout",
     "output_type": "stream",
     "text": [
      "Size of train set:  81191\n",
      "Size of validation set:  4511\n",
      "Size of test set:  4511\n"
     ]
    }
   ],
   "source": [
    "print('Size of train set: ', len(X_train))\n",
    "print('Size of validation set: ', len(X_validation))\n",
    "print('Size of test set: ', len(X_test))"
   ]
  },
  {
   "cell_type": "markdown",
   "metadata": {},
   "source": [
    "Let’s create a matrix m x n, where m are the users and n are the movies. This will be a sparsely populated matrix because users rate only a fraction of the movies."
   ]
  },
  {
   "cell_type": "markdown",
   "metadata": {},
   "source": [
    "Generate ratings matrix for train."
   ]
  },
  {
   "cell_type": "code",
   "execution_count": 13,
   "metadata": {},
   "outputs": [],
   "source": [
    "ratings_train = np.zeros((n_users, n_movies))\n",
    "for row in X_train.itertuples():\n",
    "    ratings_train[row[6]-1, row[5]-1] = row[3]"
   ]
  },
  {
   "cell_type": "code",
   "execution_count": 14,
   "metadata": {},
   "outputs": [
    {
     "data": {
      "text/plain": [
       "(1000, 1000)"
      ]
     },
     "execution_count": 14,
     "metadata": {},
     "output_type": "execute_result"
    }
   ],
   "source": [
    "ratings_train.shape"
   ]
  },
  {
   "cell_type": "markdown",
   "metadata": {},
   "source": [
    "Calculate sparsity of the train ratings matrix."
   ]
  },
  {
   "cell_type": "code",
   "execution_count": 15,
   "metadata": {},
   "outputs": [
    {
     "name": "stdout",
     "output_type": "stream",
     "text": [
      "Sparsity: 8.12%\n"
     ]
    }
   ],
   "source": [
    "sparsity = float(len(ratings_train.nonzero()[0]))\n",
    "sparsity /= (ratings_train.shape[0] * ratings_train.shape[1])\n",
    "sparsity *= 100\n",
    "print('Sparsity: {:4.2f}%'.format(sparsity))"
   ]
  },
  {
   "cell_type": "markdown",
   "metadata": {},
   "source": [
    "Generate ratings matrix for validation."
   ]
  },
  {
   "cell_type": "code",
   "execution_count": 16,
   "metadata": {},
   "outputs": [],
   "source": [
    "ratings_validation = np.zeros((n_users, n_movies))\n",
    "for row in X_validation.itertuples():\n",
    "    ratings_validation[row[6]-1, row[5]-1] = row[3]"
   ]
  },
  {
   "cell_type": "markdown",
   "metadata": {},
   "source": [
    "Generate ratings matrix for test."
   ]
  },
  {
   "cell_type": "code",
   "execution_count": 17,
   "metadata": {},
   "outputs": [],
   "source": [
    "ratings_test = np.zeros((n_users, n_movies))\n",
    "for row in X_test.itertuples():\n",
    "    ratings_test[row[6]-1, row[5]-1] = row[3]"
   ]
  },
  {
   "cell_type": "markdown",
   "metadata": {},
   "source": [
    "Calculate sparsity of the validation ratings matrix."
   ]
  },
  {
   "cell_type": "code",
   "execution_count": 18,
   "metadata": {},
   "outputs": [
    {
     "name": "stdout",
     "output_type": "stream",
     "text": [
      "Sparsity: 0.45%\n"
     ]
    }
   ],
   "source": [
    "sparsity = float(len(ratings_validation.nonzero()[0]))\n",
    "sparsity /= (ratings_validation.shape[0] * ratings_validation.shape[1])\n",
    "sparsity *= 100\n",
    "print('Sparsity: {:4.2f}%'.format(sparsity))"
   ]
  },
  {
   "cell_type": "markdown",
   "metadata": {},
   "source": [
    "Define RBM class."
   ]
  },
  {
   "cell_type": "code",
   "execution_count": 19,
   "metadata": {},
   "outputs": [],
   "source": [
    "class RBM(object):\n",
    "    \n",
    "    def __init__(self, input_size, output_size, \n",
    "                 learning_rate, epochs, batchsize):\n",
    "        # Define hyperparameters\n",
    "        self._input_size = input_size\n",
    "        self._output_size = output_size\n",
    "        self.learning_rate = learning_rate\n",
    "        self.epochs = epochs\n",
    "        self.batchsize = batchsize\n",
    "        \n",
    "        # Initialize weights and biases using zero matrices\n",
    "        self.w = np.zeros([input_size, output_size], dtype=np.float32)\n",
    "        self.hb = np.zeros([output_size], dtype=np.float32)\n",
    "        self.vb = np.zeros([input_size], dtype=np.float32)\n",
    "\n",
    "    def prob_h_given_v(self, visible, w, hb):\n",
    "        return tf.nn.sigmoid(tf.matmul(visible, w) + hb)\n",
    "\n",
    "    def prob_v_given_h(self, hidden, w, vb):\n",
    "        return tf.nn.sigmoid(tf.matmul(hidden, tf.transpose(w)) + vb)\n",
    "    \n",
    "    def sample_prob(self, probs):\n",
    "        return tf.nn.relu(tf.sign(probs - tf.random_uniform(tf.shape(probs))))\n",
    "\n",
    "    def train(self, X):\n",
    "        _w = tf.placeholder(tf.float32, [self._input_size, self._output_size])\n",
    "        _hb = tf.placeholder(tf.float32, [self._output_size])\n",
    "        _vb = tf.placeholder(tf.float32, [self._input_size])\n",
    "        \n",
    "        prv_w = np.zeros([self._input_size, self._output_size], dtype=np.float32)\n",
    "        prv_hb = np.zeros([self._output_size], dtype=np.float32)\n",
    "        prv_vb = np.zeros([self._input_size], dtype=np.float32)\n",
    "        \n",
    "        cur_w = np.zeros([self._input_size, self._output_size], dtype=np.float32)\n",
    "        cur_hb = np.zeros([self._output_size], dtype=np.float32)\n",
    "        cur_vb = np.zeros([self._input_size], dtype=np.float32)\n",
    "        \n",
    "        v0 = tf.placeholder(tf.float32, [None, self._input_size])\n",
    "        h0 = self.sample_prob(self.prob_h_given_v(v0, _w, _hb))\n",
    "        v1 = self.sample_prob(self.prob_v_given_h(h0, _w, _vb))\n",
    "        h1 = self.prob_h_given_v(v1, _w, _hb)\n",
    "        \n",
    "        positive_grad = tf.matmul(tf.transpose(v0), h0)\n",
    "        negative_grad = tf.matmul(tf.transpose(v1), h1)\n",
    "        \n",
    "        update_w = _w + self.learning_rate * (positive_grad - negative_grad) / tf.to_float(tf.shape(v0)[0])\n",
    "        update_vb = _vb +  self.learning_rate * tf.reduce_mean(v0 - v1, 0)\n",
    "        update_hb = _hb +  self.learning_rate * tf.reduce_mean(h0 - h1, 0)\n",
    "        \n",
    "        err = tf.reduce_mean(tf.square(v0 - v1))\n",
    "        \n",
    "        error_list = []\n",
    "        \n",
    "        with tf.Session() as sess:\n",
    "            sess.run(tf.global_variables_initializer())\n",
    "            \n",
    "            for epoch in range(self.epochs):\n",
    "                for start, end in zip(range(0, len(X), self.batchsize),range(self.batchsize,len(X), self.batchsize)):\n",
    "                    batch = X[start:end]\n",
    "                    cur_w = sess.run(update_w, feed_dict={v0: batch, _w: prv_w, _hb: prv_hb, _vb: prv_vb})\n",
    "                    cur_hb = sess.run(update_hb, feed_dict={v0: batch, _w: prv_w, _hb: prv_hb, _vb: prv_vb})\n",
    "                    cur_vb = sess.run(update_vb, feed_dict={v0: batch, _w: prv_w, _hb: prv_hb, _vb: prv_vb})\n",
    "                    prv_w = cur_w\n",
    "                    prv_hb = cur_hb\n",
    "                    prv_vb = cur_vb\n",
    "                error = sess.run(err, feed_dict={v0: X, _w: cur_w, _vb: cur_vb, _hb: cur_hb})\n",
    "                print ('Epoch: %d' % epoch,'reconstruction error: %f' % error)\n",
    "                error_list.append(error)\n",
    "            self.w = prv_w\n",
    "            self.hb = prv_hb\n",
    "            self.vb = prv_vb\n",
    "            return error_list\n",
    "\n",
    "    def rbm_output(self, X):\n",
    "        \n",
    "        input_X = tf.constant(X)\n",
    "        _w = tf.constant(self.w)\n",
    "        _hb = tf.constant(self.hb)\n",
    "        _vb = tf.constant(self.vb)\n",
    "        out = tf.nn.sigmoid(tf.matmul(input_X, _w) + _hb)\n",
    "        hiddenGen = self.sample_prob(self.prob_h_given_v(input_X, _w, _hb))\n",
    "        visibleGen = self.sample_prob(self.prob_v_given_h(hiddenGen, _w, _vb))\n",
    "        with tf.Session() as sess:\n",
    "            sess.run(tf.global_variables_initializer())\n",
    "            return sess.run(out), sess.run(visibleGen), sess.run(hiddenGen)"
   ]
  },
  {
   "cell_type": "markdown",
   "metadata": {},
   "source": [
    "To train the RBM, let’s create a NumPy array called inputX from ratings_train and convert these values to float32. We will also define the RBM to take in a one thousand-dimensional input, output a one thousand-dimensional output, use a learning rate of 0.3, train for five hundred epochs, and use a batch size of two hundred."
   ]
  },
  {
   "cell_type": "code",
   "execution_count": 20,
   "metadata": {},
   "outputs": [],
   "source": [
    "#Begin the training cycle\n",
    "# Convert inputX into float32\n",
    "inputX = ratings_train\n",
    "inputX = inputX.astype(np.float32)\n",
    "\n",
    "# Define the parameters of the RBMs we will train\n",
    "rbm=RBM(1000,1000,0.3,500,200)"
   ]
  },
  {
   "cell_type": "markdown",
   "metadata": {},
   "source": [
    "Let’s begin training."
   ]
  },
  {
   "cell_type": "code",
   "execution_count": 21,
   "metadata": {},
   "outputs": [
    {
     "name": "stdout",
     "output_type": "stream",
     "text": [
      "Epoch: 0 reconstruction error: 1.090819\n",
      "Epoch: 1 reconstruction error: 1.081555\n",
      "Epoch: 2 reconstruction error: 1.083035\n",
      "Epoch: 3 reconstruction error: 1.082957\n",
      "Epoch: 4 reconstruction error: 1.083526\n",
      "Epoch: 5 reconstruction error: 1.081169\n",
      "Epoch: 6 reconstruction error: 1.081666\n",
      "Epoch: 7 reconstruction error: 1.080812\n",
      "Epoch: 8 reconstruction error: 1.078439\n",
      "Epoch: 9 reconstruction error: 1.073565\n",
      "Epoch: 10 reconstruction error: 1.071319\n",
      "Epoch: 11 reconstruction error: 1.080454\n",
      "Epoch: 12 reconstruction error: 1.078473\n",
      "Epoch: 13 reconstruction error: 1.071900\n",
      "Epoch: 14 reconstruction error: 1.079626\n",
      "Epoch: 15 reconstruction error: 1.077505\n",
      "Epoch: 16 reconstruction error: 1.077072\n",
      "Epoch: 17 reconstruction error: 1.078846\n",
      "Epoch: 18 reconstruction error: 1.079293\n",
      "Epoch: 19 reconstruction error: 1.083333\n",
      "Epoch: 20 reconstruction error: 1.085500\n",
      "Epoch: 21 reconstruction error: 1.082010\n",
      "Epoch: 22 reconstruction error: 1.086318\n",
      "Epoch: 23 reconstruction error: 1.088189\n",
      "Epoch: 24 reconstruction error: 1.084465\n",
      "Epoch: 25 reconstruction error: 1.084352\n",
      "Epoch: 26 reconstruction error: 1.085572\n",
      "Epoch: 27 reconstruction error: 1.086316\n",
      "Epoch: 28 reconstruction error: 1.088001\n",
      "Epoch: 29 reconstruction error: 1.089164\n",
      "Epoch: 30 reconstruction error: 1.086593\n",
      "Epoch: 31 reconstruction error: 1.088704\n",
      "Epoch: 32 reconstruction error: 1.087445\n",
      "Epoch: 33 reconstruction error: 1.090870\n",
      "Epoch: 34 reconstruction error: 1.093817\n",
      "Epoch: 35 reconstruction error: 1.092546\n",
      "Epoch: 36 reconstruction error: 1.091375\n",
      "Epoch: 37 reconstruction error: 1.092803\n",
      "Epoch: 38 reconstruction error: 1.090670\n",
      "Epoch: 39 reconstruction error: 1.093290\n",
      "Epoch: 40 reconstruction error: 1.093784\n",
      "Epoch: 41 reconstruction error: 1.095968\n",
      "Epoch: 42 reconstruction error: 1.094000\n",
      "Epoch: 43 reconstruction error: 1.092934\n",
      "Epoch: 44 reconstruction error: 1.093470\n",
      "Epoch: 45 reconstruction error: 1.092898\n",
      "Epoch: 46 reconstruction error: 1.094794\n",
      "Epoch: 47 reconstruction error: 1.093418\n",
      "Epoch: 48 reconstruction error: 1.091687\n",
      "Epoch: 49 reconstruction error: 1.093734\n",
      "Epoch: 50 reconstruction error: 1.093269\n",
      "Epoch: 51 reconstruction error: 1.094777\n",
      "Epoch: 52 reconstruction error: 1.093192\n",
      "Epoch: 53 reconstruction error: 1.093169\n",
      "Epoch: 54 reconstruction error: 1.091776\n",
      "Epoch: 55 reconstruction error: 1.095273\n",
      "Epoch: 56 reconstruction error: 1.091910\n",
      "Epoch: 57 reconstruction error: 1.094493\n",
      "Epoch: 58 reconstruction error: 1.092641\n",
      "Epoch: 59 reconstruction error: 1.094776\n",
      "Epoch: 60 reconstruction error: 1.094918\n",
      "Epoch: 61 reconstruction error: 1.094102\n",
      "Epoch: 62 reconstruction error: 1.093449\n",
      "Epoch: 63 reconstruction error: 1.093740\n",
      "Epoch: 64 reconstruction error: 1.092888\n",
      "Epoch: 65 reconstruction error: 1.092955\n",
      "Epoch: 66 reconstruction error: 1.091931\n",
      "Epoch: 67 reconstruction error: 1.093557\n",
      "Epoch: 68 reconstruction error: 1.091737\n",
      "Epoch: 69 reconstruction error: 1.092294\n",
      "Epoch: 70 reconstruction error: 1.091429\n",
      "Epoch: 71 reconstruction error: 1.091334\n",
      "Epoch: 72 reconstruction error: 1.092265\n",
      "Epoch: 73 reconstruction error: 1.092438\n",
      "Epoch: 74 reconstruction error: 1.092453\n",
      "Epoch: 75 reconstruction error: 1.091943\n",
      "Epoch: 76 reconstruction error: 1.093017\n",
      "Epoch: 77 reconstruction error: 1.092903\n",
      "Epoch: 78 reconstruction error: 1.092754\n",
      "Epoch: 79 reconstruction error: 1.091820\n",
      "Epoch: 80 reconstruction error: 1.091817\n",
      "Epoch: 81 reconstruction error: 1.090834\n",
      "Epoch: 82 reconstruction error: 1.092208\n",
      "Epoch: 83 reconstruction error: 1.090997\n",
      "Epoch: 84 reconstruction error: 1.090996\n",
      "Epoch: 85 reconstruction error: 1.091807\n",
      "Epoch: 86 reconstruction error: 1.090163\n",
      "Epoch: 87 reconstruction error: 1.091848\n",
      "Epoch: 88 reconstruction error: 1.090157\n",
      "Epoch: 89 reconstruction error: 1.091447\n",
      "Epoch: 90 reconstruction error: 1.089818\n",
      "Epoch: 91 reconstruction error: 1.090541\n",
      "Epoch: 92 reconstruction error: 1.089651\n",
      "Epoch: 93 reconstruction error: 1.090657\n",
      "Epoch: 94 reconstruction error: 1.090497\n",
      "Epoch: 95 reconstruction error: 1.088019\n",
      "Epoch: 96 reconstruction error: 1.089232\n",
      "Epoch: 97 reconstruction error: 1.088410\n",
      "Epoch: 98 reconstruction error: 1.089457\n",
      "Epoch: 99 reconstruction error: 1.089367\n",
      "Epoch: 100 reconstruction error: 1.089003\n",
      "Epoch: 101 reconstruction error: 1.089255\n",
      "Epoch: 102 reconstruction error: 1.089098\n",
      "Epoch: 103 reconstruction error: 1.088907\n",
      "Epoch: 104 reconstruction error: 1.088282\n",
      "Epoch: 105 reconstruction error: 1.087602\n",
      "Epoch: 106 reconstruction error: 1.088012\n",
      "Epoch: 107 reconstruction error: 1.087688\n",
      "Epoch: 108 reconstruction error: 1.089692\n",
      "Epoch: 109 reconstruction error: 1.088225\n",
      "Epoch: 110 reconstruction error: 1.088596\n",
      "Epoch: 111 reconstruction error: 1.087711\n",
      "Epoch: 112 reconstruction error: 1.088598\n",
      "Epoch: 113 reconstruction error: 1.086696\n",
      "Epoch: 114 reconstruction error: 1.086810\n",
      "Epoch: 115 reconstruction error: 1.086637\n",
      "Epoch: 116 reconstruction error: 1.087809\n",
      "Epoch: 117 reconstruction error: 1.087325\n",
      "Epoch: 118 reconstruction error: 1.087767\n",
      "Epoch: 119 reconstruction error: 1.087157\n",
      "Epoch: 120 reconstruction error: 1.086985\n",
      "Epoch: 121 reconstruction error: 1.086787\n",
      "Epoch: 122 reconstruction error: 1.086838\n",
      "Epoch: 123 reconstruction error: 1.086360\n",
      "Epoch: 124 reconstruction error: 1.087656\n",
      "Epoch: 125 reconstruction error: 1.086522\n",
      "Epoch: 126 reconstruction error: 1.087090\n",
      "Epoch: 127 reconstruction error: 1.085552\n",
      "Epoch: 128 reconstruction error: 1.086849\n",
      "Epoch: 129 reconstruction error: 1.086800\n",
      "Epoch: 130 reconstruction error: 1.085906\n",
      "Epoch: 131 reconstruction error: 1.086638\n",
      "Epoch: 132 reconstruction error: 1.085943\n",
      "Epoch: 133 reconstruction error: 1.086154\n",
      "Epoch: 134 reconstruction error: 1.086704\n",
      "Epoch: 135 reconstruction error: 1.084824\n",
      "Epoch: 136 reconstruction error: 1.084623\n",
      "Epoch: 137 reconstruction error: 1.086607\n",
      "Epoch: 138 reconstruction error: 1.085554\n",
      "Epoch: 139 reconstruction error: 1.084558\n",
      "Epoch: 140 reconstruction error: 1.086861\n",
      "Epoch: 141 reconstruction error: 1.085240\n",
      "Epoch: 142 reconstruction error: 1.085611\n",
      "Epoch: 143 reconstruction error: 1.085572\n",
      "Epoch: 144 reconstruction error: 1.085886\n",
      "Epoch: 145 reconstruction error: 1.084991\n",
      "Epoch: 146 reconstruction error: 1.085636\n",
      "Epoch: 147 reconstruction error: 1.084311\n",
      "Epoch: 148 reconstruction error: 1.085799\n",
      "Epoch: 149 reconstruction error: 1.084190\n",
      "Epoch: 150 reconstruction error: 1.083740\n",
      "Epoch: 151 reconstruction error: 1.084795\n",
      "Epoch: 152 reconstruction error: 1.084393\n",
      "Epoch: 153 reconstruction error: 1.083158\n",
      "Epoch: 154 reconstruction error: 1.084908\n",
      "Epoch: 155 reconstruction error: 1.083858\n",
      "Epoch: 156 reconstruction error: 1.083675\n",
      "Epoch: 157 reconstruction error: 1.084321\n",
      "Epoch: 158 reconstruction error: 1.083244\n",
      "Epoch: 159 reconstruction error: 1.082546\n",
      "Epoch: 160 reconstruction error: 1.083647\n",
      "Epoch: 161 reconstruction error: 1.083665\n",
      "Epoch: 162 reconstruction error: 1.082790\n",
      "Epoch: 163 reconstruction error: 1.083249\n",
      "Epoch: 164 reconstruction error: 1.082898\n",
      "Epoch: 165 reconstruction error: 1.081918\n",
      "Epoch: 166 reconstruction error: 1.082979\n",
      "Epoch: 167 reconstruction error: 1.082227\n",
      "Epoch: 168 reconstruction error: 1.081856\n",
      "Epoch: 169 reconstruction error: 1.082248\n",
      "Epoch: 170 reconstruction error: 1.081882\n",
      "Epoch: 171 reconstruction error: 1.082667\n",
      "Epoch: 172 reconstruction error: 1.082826\n",
      "Epoch: 173 reconstruction error: 1.081326\n",
      "Epoch: 174 reconstruction error: 1.082067\n",
      "Epoch: 175 reconstruction error: 1.081985\n",
      "Epoch: 176 reconstruction error: 1.081908\n",
      "Epoch: 177 reconstruction error: 1.081676\n",
      "Epoch: 178 reconstruction error: 1.082319\n",
      "Epoch: 179 reconstruction error: 1.081995\n",
      "Epoch: 180 reconstruction error: 1.082353\n",
      "Epoch: 181 reconstruction error: 1.081807\n",
      "Epoch: 182 reconstruction error: 1.082003\n",
      "Epoch: 183 reconstruction error: 1.081956\n",
      "Epoch: 184 reconstruction error: 1.081570\n",
      "Epoch: 185 reconstruction error: 1.082355\n",
      "Epoch: 186 reconstruction error: 1.081486\n",
      "Epoch: 187 reconstruction error: 1.081650\n",
      "Epoch: 188 reconstruction error: 1.080922\n",
      "Epoch: 189 reconstruction error: 1.081575\n",
      "Epoch: 190 reconstruction error: 1.081429\n",
      "Epoch: 191 reconstruction error: 1.080986\n",
      "Epoch: 192 reconstruction error: 1.080531\n",
      "Epoch: 193 reconstruction error: 1.080703\n",
      "Epoch: 194 reconstruction error: 1.081113\n",
      "Epoch: 195 reconstruction error: 1.080240\n",
      "Epoch: 196 reconstruction error: 1.080876\n",
      "Epoch: 197 reconstruction error: 1.080719\n"
     ]
    },
    {
     "name": "stdout",
     "output_type": "stream",
     "text": [
      "Epoch: 198 reconstruction error: 1.079551\n",
      "Epoch: 199 reconstruction error: 1.079738\n",
      "Epoch: 200 reconstruction error: 1.080569\n",
      "Epoch: 201 reconstruction error: 1.080384\n",
      "Epoch: 202 reconstruction error: 1.079869\n",
      "Epoch: 203 reconstruction error: 1.080227\n",
      "Epoch: 204 reconstruction error: 1.079517\n",
      "Epoch: 205 reconstruction error: 1.080727\n",
      "Epoch: 206 reconstruction error: 1.079780\n",
      "Epoch: 207 reconstruction error: 1.080557\n",
      "Epoch: 208 reconstruction error: 1.079185\n",
      "Epoch: 209 reconstruction error: 1.079816\n",
      "Epoch: 210 reconstruction error: 1.079337\n",
      "Epoch: 211 reconstruction error: 1.079802\n",
      "Epoch: 212 reconstruction error: 1.079396\n",
      "Epoch: 213 reconstruction error: 1.079833\n",
      "Epoch: 214 reconstruction error: 1.079769\n",
      "Epoch: 215 reconstruction error: 1.079757\n",
      "Epoch: 216 reconstruction error: 1.079262\n",
      "Epoch: 217 reconstruction error: 1.079965\n",
      "Epoch: 218 reconstruction error: 1.079337\n",
      "Epoch: 219 reconstruction error: 1.079021\n",
      "Epoch: 220 reconstruction error: 1.079811\n",
      "Epoch: 221 reconstruction error: 1.079101\n",
      "Epoch: 222 reconstruction error: 1.079751\n",
      "Epoch: 223 reconstruction error: 1.079240\n",
      "Epoch: 224 reconstruction error: 1.078791\n",
      "Epoch: 225 reconstruction error: 1.079160\n",
      "Epoch: 226 reconstruction error: 1.079216\n",
      "Epoch: 227 reconstruction error: 1.078735\n",
      "Epoch: 228 reconstruction error: 1.078884\n",
      "Epoch: 229 reconstruction error: 1.078038\n",
      "Epoch: 230 reconstruction error: 1.079139\n",
      "Epoch: 231 reconstruction error: 1.078802\n",
      "Epoch: 232 reconstruction error: 1.078460\n",
      "Epoch: 233 reconstruction error: 1.078336\n",
      "Epoch: 234 reconstruction error: 1.078840\n",
      "Epoch: 235 reconstruction error: 1.078493\n",
      "Epoch: 236 reconstruction error: 1.078603\n",
      "Epoch: 237 reconstruction error: 1.078933\n",
      "Epoch: 238 reconstruction error: 1.078778\n",
      "Epoch: 239 reconstruction error: 1.078693\n",
      "Epoch: 240 reconstruction error: 1.078519\n",
      "Epoch: 241 reconstruction error: 1.077911\n",
      "Epoch: 242 reconstruction error: 1.078511\n",
      "Epoch: 243 reconstruction error: 1.078503\n",
      "Epoch: 244 reconstruction error: 1.078504\n",
      "Epoch: 245 reconstruction error: 1.077711\n",
      "Epoch: 246 reconstruction error: 1.077940\n",
      "Epoch: 247 reconstruction error: 1.077793\n",
      "Epoch: 248 reconstruction error: 1.078002\n",
      "Epoch: 249 reconstruction error: 1.077858\n",
      "Epoch: 250 reconstruction error: 1.078009\n",
      "Epoch: 251 reconstruction error: 1.077292\n",
      "Epoch: 252 reconstruction error: 1.078130\n",
      "Epoch: 253 reconstruction error: 1.076998\n",
      "Epoch: 254 reconstruction error: 1.077940\n",
      "Epoch: 255 reconstruction error: 1.077258\n",
      "Epoch: 256 reconstruction error: 1.076913\n",
      "Epoch: 257 reconstruction error: 1.076977\n",
      "Epoch: 258 reconstruction error: 1.077719\n",
      "Epoch: 259 reconstruction error: 1.077678\n",
      "Epoch: 260 reconstruction error: 1.076887\n",
      "Epoch: 261 reconstruction error: 1.077654\n",
      "Epoch: 262 reconstruction error: 1.077106\n",
      "Epoch: 263 reconstruction error: 1.076548\n",
      "Epoch: 264 reconstruction error: 1.077708\n",
      "Epoch: 265 reconstruction error: 1.076710\n",
      "Epoch: 266 reconstruction error: 1.077618\n",
      "Epoch: 267 reconstruction error: 1.077345\n",
      "Epoch: 268 reconstruction error: 1.076622\n",
      "Epoch: 269 reconstruction error: 1.077245\n",
      "Epoch: 270 reconstruction error: 1.077449\n",
      "Epoch: 271 reconstruction error: 1.076651\n",
      "Epoch: 272 reconstruction error: 1.077584\n",
      "Epoch: 273 reconstruction error: 1.077302\n",
      "Epoch: 274 reconstruction error: 1.076632\n",
      "Epoch: 275 reconstruction error: 1.077580\n",
      "Epoch: 276 reconstruction error: 1.076020\n",
      "Epoch: 277 reconstruction error: 1.076880\n",
      "Epoch: 278 reconstruction error: 1.076903\n",
      "Epoch: 279 reconstruction error: 1.076857\n",
      "Epoch: 280 reconstruction error: 1.076288\n",
      "Epoch: 281 reconstruction error: 1.077443\n",
      "Epoch: 282 reconstruction error: 1.075848\n",
      "Epoch: 283 reconstruction error: 1.076630\n",
      "Epoch: 284 reconstruction error: 1.076221\n",
      "Epoch: 285 reconstruction error: 1.076560\n",
      "Epoch: 286 reconstruction error: 1.075796\n",
      "Epoch: 287 reconstruction error: 1.076772\n",
      "Epoch: 288 reconstruction error: 1.075853\n",
      "Epoch: 289 reconstruction error: 1.076429\n",
      "Epoch: 290 reconstruction error: 1.075672\n",
      "Epoch: 291 reconstruction error: 1.076447\n",
      "Epoch: 292 reconstruction error: 1.076326\n",
      "Epoch: 293 reconstruction error: 1.076602\n",
      "Epoch: 294 reconstruction error: 1.076316\n",
      "Epoch: 295 reconstruction error: 1.076259\n",
      "Epoch: 296 reconstruction error: 1.076498\n",
      "Epoch: 297 reconstruction error: 1.076180\n",
      "Epoch: 298 reconstruction error: 1.075941\n",
      "Epoch: 299 reconstruction error: 1.076210\n",
      "Epoch: 300 reconstruction error: 1.075873\n",
      "Epoch: 301 reconstruction error: 1.076609\n",
      "Epoch: 302 reconstruction error: 1.075848\n",
      "Epoch: 303 reconstruction error: 1.076033\n",
      "Epoch: 304 reconstruction error: 1.075533\n",
      "Epoch: 305 reconstruction error: 1.076076\n",
      "Epoch: 306 reconstruction error: 1.075832\n",
      "Epoch: 307 reconstruction error: 1.075289\n",
      "Epoch: 308 reconstruction error: 1.075315\n",
      "Epoch: 309 reconstruction error: 1.076090\n",
      "Epoch: 310 reconstruction error: 1.075575\n",
      "Epoch: 311 reconstruction error: 1.075572\n",
      "Epoch: 312 reconstruction error: 1.074733\n",
      "Epoch: 313 reconstruction error: 1.075575\n",
      "Epoch: 314 reconstruction error: 1.074787\n",
      "Epoch: 315 reconstruction error: 1.075886\n",
      "Epoch: 316 reconstruction error: 1.074435\n",
      "Epoch: 317 reconstruction error: 1.075766\n",
      "Epoch: 318 reconstruction error: 1.074594\n",
      "Epoch: 319 reconstruction error: 1.075719\n",
      "Epoch: 320 reconstruction error: 1.074291\n",
      "Epoch: 321 reconstruction error: 1.075474\n",
      "Epoch: 322 reconstruction error: 1.075011\n",
      "Epoch: 323 reconstruction error: 1.075413\n",
      "Epoch: 324 reconstruction error: 1.074711\n",
      "Epoch: 325 reconstruction error: 1.074679\n",
      "Epoch: 326 reconstruction error: 1.074569\n",
      "Epoch: 327 reconstruction error: 1.075500\n",
      "Epoch: 328 reconstruction error: 1.074873\n",
      "Epoch: 329 reconstruction error: 1.074950\n",
      "Epoch: 330 reconstruction error: 1.074375\n",
      "Epoch: 331 reconstruction error: 1.075114\n",
      "Epoch: 332 reconstruction error: 1.074487\n",
      "Epoch: 333 reconstruction error: 1.075034\n",
      "Epoch: 334 reconstruction error: 1.074710\n",
      "Epoch: 335 reconstruction error: 1.075212\n",
      "Epoch: 336 reconstruction error: 1.075115\n",
      "Epoch: 337 reconstruction error: 1.075091\n",
      "Epoch: 338 reconstruction error: 1.075264\n",
      "Epoch: 339 reconstruction error: 1.074798\n",
      "Epoch: 340 reconstruction error: 1.075196\n",
      "Epoch: 341 reconstruction error: 1.074679\n",
      "Epoch: 342 reconstruction error: 1.074525\n",
      "Epoch: 343 reconstruction error: 1.074658\n",
      "Epoch: 344 reconstruction error: 1.074345\n",
      "Epoch: 345 reconstruction error: 1.075402\n",
      "Epoch: 346 reconstruction error: 1.074957\n",
      "Epoch: 347 reconstruction error: 1.074908\n",
      "Epoch: 348 reconstruction error: 1.075001\n",
      "Epoch: 349 reconstruction error: 1.075044\n",
      "Epoch: 350 reconstruction error: 1.075040\n",
      "Epoch: 351 reconstruction error: 1.074931\n",
      "Epoch: 352 reconstruction error: 1.074857\n",
      "Epoch: 353 reconstruction error: 1.074939\n",
      "Epoch: 354 reconstruction error: 1.075073\n",
      "Epoch: 355 reconstruction error: 1.074422\n",
      "Epoch: 356 reconstruction error: 1.075320\n",
      "Epoch: 357 reconstruction error: 1.075390\n",
      "Epoch: 358 reconstruction error: 1.074507\n",
      "Epoch: 359 reconstruction error: 1.074896\n",
      "Epoch: 360 reconstruction error: 1.074427\n",
      "Epoch: 361 reconstruction error: 1.074744\n",
      "Epoch: 362 reconstruction error: 1.074306\n",
      "Epoch: 363 reconstruction error: 1.074916\n",
      "Epoch: 364 reconstruction error: 1.075142\n",
      "Epoch: 365 reconstruction error: 1.074455\n",
      "Epoch: 366 reconstruction error: 1.074700\n",
      "Epoch: 367 reconstruction error: 1.074721\n",
      "Epoch: 368 reconstruction error: 1.074249\n",
      "Epoch: 369 reconstruction error: 1.074566\n",
      "Epoch: 370 reconstruction error: 1.074255\n",
      "Epoch: 371 reconstruction error: 1.074491\n",
      "Epoch: 372 reconstruction error: 1.074422\n",
      "Epoch: 373 reconstruction error: 1.074690\n",
      "Epoch: 374 reconstruction error: 1.073823\n",
      "Epoch: 375 reconstruction error: 1.074752\n",
      "Epoch: 376 reconstruction error: 1.074499\n",
      "Epoch: 377 reconstruction error: 1.074729\n",
      "Epoch: 378 reconstruction error: 1.074041\n",
      "Epoch: 379 reconstruction error: 1.074898\n",
      "Epoch: 380 reconstruction error: 1.073951\n",
      "Epoch: 381 reconstruction error: 1.074805\n",
      "Epoch: 382 reconstruction error: 1.074116\n",
      "Epoch: 383 reconstruction error: 1.074952\n",
      "Epoch: 384 reconstruction error: 1.074314\n",
      "Epoch: 385 reconstruction error: 1.074391\n",
      "Epoch: 386 reconstruction error: 1.074193\n",
      "Epoch: 387 reconstruction error: 1.074330\n",
      "Epoch: 388 reconstruction error: 1.074175\n",
      "Epoch: 389 reconstruction error: 1.074226\n",
      "Epoch: 390 reconstruction error: 1.074231\n",
      "Epoch: 391 reconstruction error: 1.074486\n",
      "Epoch: 392 reconstruction error: 1.074417\n",
      "Epoch: 393 reconstruction error: 1.074190\n"
     ]
    },
    {
     "name": "stdout",
     "output_type": "stream",
     "text": [
      "Epoch: 394 reconstruction error: 1.073743\n",
      "Epoch: 395 reconstruction error: 1.074847\n",
      "Epoch: 396 reconstruction error: 1.074062\n",
      "Epoch: 397 reconstruction error: 1.074013\n",
      "Epoch: 398 reconstruction error: 1.074041\n",
      "Epoch: 399 reconstruction error: 1.074391\n",
      "Epoch: 400 reconstruction error: 1.073632\n",
      "Epoch: 401 reconstruction error: 1.074142\n",
      "Epoch: 402 reconstruction error: 1.073967\n",
      "Epoch: 403 reconstruction error: 1.073840\n",
      "Epoch: 404 reconstruction error: 1.074038\n",
      "Epoch: 405 reconstruction error: 1.073866\n",
      "Epoch: 406 reconstruction error: 1.073796\n",
      "Epoch: 407 reconstruction error: 1.073607\n",
      "Epoch: 408 reconstruction error: 1.073815\n",
      "Epoch: 409 reconstruction error: 1.073452\n",
      "Epoch: 410 reconstruction error: 1.073233\n",
      "Epoch: 411 reconstruction error: 1.073395\n",
      "Epoch: 412 reconstruction error: 1.073282\n",
      "Epoch: 413 reconstruction error: 1.073776\n",
      "Epoch: 414 reconstruction error: 1.073480\n",
      "Epoch: 415 reconstruction error: 1.073704\n",
      "Epoch: 416 reconstruction error: 1.073414\n",
      "Epoch: 417 reconstruction error: 1.073478\n",
      "Epoch: 418 reconstruction error: 1.073084\n",
      "Epoch: 419 reconstruction error: 1.073683\n",
      "Epoch: 420 reconstruction error: 1.073231\n",
      "Epoch: 421 reconstruction error: 1.073710\n",
      "Epoch: 422 reconstruction error: 1.073192\n",
      "Epoch: 423 reconstruction error: 1.073282\n",
      "Epoch: 424 reconstruction error: 1.073200\n",
      "Epoch: 425 reconstruction error: 1.073447\n",
      "Epoch: 426 reconstruction error: 1.073421\n",
      "Epoch: 427 reconstruction error: 1.073428\n",
      "Epoch: 428 reconstruction error: 1.073452\n",
      "Epoch: 429 reconstruction error: 1.073472\n",
      "Epoch: 430 reconstruction error: 1.072716\n",
      "Epoch: 431 reconstruction error: 1.073028\n",
      "Epoch: 432 reconstruction error: 1.073388\n",
      "Epoch: 433 reconstruction error: 1.073112\n",
      "Epoch: 434 reconstruction error: 1.072862\n",
      "Epoch: 435 reconstruction error: 1.073213\n",
      "Epoch: 436 reconstruction error: 1.073640\n",
      "Epoch: 437 reconstruction error: 1.073318\n",
      "Epoch: 438 reconstruction error: 1.073313\n",
      "Epoch: 439 reconstruction error: 1.073046\n",
      "Epoch: 440 reconstruction error: 1.073117\n",
      "Epoch: 441 reconstruction error: 1.073396\n",
      "Epoch: 442 reconstruction error: 1.073714\n",
      "Epoch: 443 reconstruction error: 1.073732\n",
      "Epoch: 444 reconstruction error: 1.073215\n",
      "Epoch: 445 reconstruction error: 1.073761\n",
      "Epoch: 446 reconstruction error: 1.073221\n",
      "Epoch: 447 reconstruction error: 1.073573\n",
      "Epoch: 448 reconstruction error: 1.073781\n",
      "Epoch: 449 reconstruction error: 1.073668\n",
      "Epoch: 450 reconstruction error: 1.073138\n",
      "Epoch: 451 reconstruction error: 1.073388\n",
      "Epoch: 452 reconstruction error: 1.072638\n",
      "Epoch: 453 reconstruction error: 1.073606\n",
      "Epoch: 454 reconstruction error: 1.072636\n",
      "Epoch: 455 reconstruction error: 1.073630\n",
      "Epoch: 456 reconstruction error: 1.072948\n",
      "Epoch: 457 reconstruction error: 1.073328\n",
      "Epoch: 458 reconstruction error: 1.073360\n",
      "Epoch: 459 reconstruction error: 1.073225\n",
      "Epoch: 460 reconstruction error: 1.072716\n",
      "Epoch: 461 reconstruction error: 1.073629\n",
      "Epoch: 462 reconstruction error: 1.073040\n",
      "Epoch: 463 reconstruction error: 1.073349\n",
      "Epoch: 464 reconstruction error: 1.073048\n",
      "Epoch: 465 reconstruction error: 1.073089\n",
      "Epoch: 466 reconstruction error: 1.072698\n",
      "Epoch: 467 reconstruction error: 1.073280\n",
      "Epoch: 468 reconstruction error: 1.072963\n",
      "Epoch: 469 reconstruction error: 1.073246\n",
      "Epoch: 470 reconstruction error: 1.072724\n",
      "Epoch: 471 reconstruction error: 1.072819\n",
      "Epoch: 472 reconstruction error: 1.072997\n",
      "Epoch: 473 reconstruction error: 1.073493\n",
      "Epoch: 474 reconstruction error: 1.072935\n",
      "Epoch: 475 reconstruction error: 1.073601\n",
      "Epoch: 476 reconstruction error: 1.073063\n",
      "Epoch: 477 reconstruction error: 1.073856\n",
      "Epoch: 478 reconstruction error: 1.072827\n",
      "Epoch: 479 reconstruction error: 1.073099\n",
      "Epoch: 480 reconstruction error: 1.072875\n",
      "Epoch: 481 reconstruction error: 1.073164\n",
      "Epoch: 482 reconstruction error: 1.072793\n",
      "Epoch: 483 reconstruction error: 1.073280\n",
      "Epoch: 484 reconstruction error: 1.073215\n",
      "Epoch: 485 reconstruction error: 1.073177\n",
      "Epoch: 486 reconstruction error: 1.072994\n",
      "Epoch: 487 reconstruction error: 1.073329\n",
      "Epoch: 488 reconstruction error: 1.072912\n",
      "Epoch: 489 reconstruction error: 1.073616\n",
      "Epoch: 490 reconstruction error: 1.072785\n",
      "Epoch: 491 reconstruction error: 1.073280\n",
      "Epoch: 492 reconstruction error: 1.072958\n",
      "Epoch: 493 reconstruction error: 1.072945\n",
      "Epoch: 494 reconstruction error: 1.072613\n",
      "Epoch: 495 reconstruction error: 1.073179\n",
      "Epoch: 496 reconstruction error: 1.072592\n",
      "Epoch: 497 reconstruction error: 1.073261\n",
      "Epoch: 498 reconstruction error: 1.072373\n",
      "Epoch: 499 reconstruction error: 1.073060\n"
     ]
    }
   ],
   "source": [
    "# Train RBM model\n",
    "err = rbm.train(inputX)\n",
    "outputX, reconstructedX, hiddenX = rbm.rbm_output(inputX)"
   ]
  },
  {
   "cell_type": "markdown",
   "metadata": {},
   "source": [
    "Displays the plot of the reconstruction errors."
   ]
  },
  {
   "cell_type": "code",
   "execution_count": 22,
   "metadata": {},
   "outputs": [
    {
     "data": {
      "text/plain": [
       "Text(0, 0.5, 'Reconstruction Error')"
      ]
     },
     "execution_count": 22,
     "metadata": {},
     "output_type": "execute_result"
    },
    {
     "data": {
      "image/png": "[encoded data removed]",
      "text/plain": [
       "<Figure size 432x288 with 1 Axes>"
      ]
     },
     "metadata": {
      "needs_background": "light"
     },
     "output_type": "display_data"
    }
   ],
   "source": [
    "# Plot reconstruction errors\n",
    "pd.Series(err).plot(logy=False)\n",
    "plt.xlabel(\"Epoch\")\n",
    "plt.ylabel(\"Reconstruction Error\")"
   ]
  },
  {
   "cell_type": "markdown",
   "metadata": {},
   "source": [
    "Now let’s take the RBM model we developed to predict the ratings for users in the validation set (which has the same users as the training set)."
   ]
  },
  {
   "cell_type": "code",
   "execution_count": 23,
   "metadata": {},
   "outputs": [],
   "source": [
    "# Predict ratings for validation set\n",
    "inputValidation = ratings_validation\n",
    "inputValidation = inputValidation.astype(np.float32)\n",
    "finalOutput_validation, reconstructedOutput_validation, _ = rbm.rbm_output(inputValidation)"
   ]
  },
  {
   "cell_type": "markdown",
   "metadata": {},
   "source": [
    "Next, let’s convert the predictions into an array and calculate the MSE against the true validation ratings."
   ]
  },
  {
   "cell_type": "code",
   "execution_count": 24,
   "metadata": {},
   "outputs": [
    {
     "name": "stdout",
     "output_type": "stream",
     "text": [
      "Mean squared error using RBM prediction: 9.352637996009754\n"
     ]
    }
   ],
   "source": [
    "# Calculate MSE on validation set\n",
    "predictionsArray = reconstructedOutput_validation\n",
    "pred_validation = predictionsArray[ratings_validation.nonzero()].flatten()\n",
    "actual_validation = ratings_validation[ratings_validation.nonzero()].flatten()\n",
    "rbm_prediction = mean_squared_error(pred_validation, actual_validation)\n",
    "print('Mean squared error using RBM prediction:', rbm_prediction)"
   ]
  },
  {
   "cell_type": "markdown",
   "metadata": {},
   "source": [
    "This MSE is a starting point and will likely improve with greater experimentation."
   ]
  },
  {
   "cell_type": "code",
   "execution_count": null,
   "metadata": {},
   "outputs": [],
   "source": []
  }
 ],
 "metadata": {
  "kernelspec": {
   "display_name": "Python 3",
   "language": "python",
   "name": "python3"
  },
  "language_info": {
   "codemirror_mode": {
    "name": "ipython",
    "version": 3
   },
   "file_extension": ".py",
   "mimetype": "text/x-python",
   "name": "python",
   "nbconvert_exporter": "python",
   "pygments_lexer": "ipython3",
   "version": "3.6.7"
  }
 },
 "nbformat": 4,
 "nbformat_minor": 2
}
